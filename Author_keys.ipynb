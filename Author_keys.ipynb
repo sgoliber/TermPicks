{
 "cells": [
  {
   "cell_type": "code",
   "execution_count": 1,
   "id": "a38f89ea-e520-4578-9a1e-92d6de8ae23c",
   "metadata": {},
   "outputs": [],
   "source": [
    "import geopandas as gpd\n",
    "import pandas as pd"
   ]
  },
  {
   "cell_type": "code",
   "execution_count": null,
   "id": "8a5b412a-e2cb-47ac-a60a-60bf9c5fab89",
   "metadata": {},
   "outputs": [],
   "source": [
    "keys = pd.read_csv('Author_keys.csv')"
   ]
  },
  {
   "cell_type": "code",
   "execution_count": null,
   "id": "b6625dc6-90cb-4a7d-bb86-bcfe9bb27887",
   "metadata": {},
   "outputs": [],
   "source": [
    "directory = 'INPUT DIRECTORY FOR SHAPEFILE'\n",
    "save_directory 'INPUT DIRECTORY FOR TEXTFILE'"
   ]
  },
  {
   "cell_type": "code",
   "execution_count": 115,
   "id": "0ef1592d-4573-4daf-babe-e6b5ca09cdc1",
   "metadata": {},
   "outputs": [
    {
     "ename": "OSError",
     "evalue": "[Errno 22] Invalid argument: 'Picks\\termpicks_dois.txt'",
     "output_type": "error",
     "traceback": [
      "\u001b[1;31m---------------------------------------------------------------------------\u001b[0m",
      "\u001b[1;31mOSError\u001b[0m                                   Traceback (most recent call last)",
      "\u001b[1;32m<ipython-input-115-11aff0b0a0a9>\u001b[0m in \u001b[0;36m<module>\u001b[1;34m\u001b[0m\n\u001b[0;32m     23\u001b[0m \u001b[1;33m\u001b[0m\u001b[0m\n\u001b[0;32m     24\u001b[0m \u001b[1;33m\u001b[0m\u001b[0m\n\u001b[1;32m---> 25\u001b[1;33m \u001b[0mtextfile\u001b[0m \u001b[1;33m=\u001b[0m \u001b[0mopen\u001b[0m\u001b[1;33m(\u001b[0m\u001b[0msave_directory\u001b[0m \u001b[1;33m+\u001b[0m\u001b[1;34m\"\\termpicks_dois.txt\"\u001b[0m\u001b[1;33m,\u001b[0m \u001b[1;34m\"w\"\u001b[0m\u001b[1;33m)\u001b[0m\u001b[1;33m\u001b[0m\u001b[1;33m\u001b[0m\u001b[0m\n\u001b[0m\u001b[0;32m     26\u001b[0m \u001b[1;32mfor\u001b[0m \u001b[0melement\u001b[0m \u001b[1;32min\u001b[0m \u001b[0mdois\u001b[0m\u001b[1;33m:\u001b[0m\u001b[1;33m\u001b[0m\u001b[1;33m\u001b[0m\u001b[0m\n\u001b[0;32m     27\u001b[0m     \u001b[0mtextfile\u001b[0m\u001b[1;33m.\u001b[0m\u001b[0mwrite\u001b[0m\u001b[1;33m(\u001b[0m\u001b[0melement\u001b[0m \u001b[1;33m+\u001b[0m \u001b[1;34m\"\\n\"\u001b[0m\u001b[1;33m)\u001b[0m\u001b[1;33m\u001b[0m\u001b[1;33m\u001b[0m\u001b[0m\n",
      "\u001b[1;31mOSError\u001b[0m: [Errno 22] Invalid argument: 'Picks\\termpicks_dois.txt'"
     ]
    }
   ],
   "source": [
    "shp = gpd.read_file(directory)\n",
    "shp=shp[0:10]\n",
    "dois = []\n",
    "for auth in authors_used:\n",
    "    if auth == 'Carr':\n",
    "        ids = list(set(shp[shp['Author'] == 'Carr']['GlacierID'].to_list()))\n",
    "        for i in ids:\n",
    "            if i == 85:\n",
    "                dois.append(keys[(keys['Author Key'] == 'Carr') & (keys['IDs'] == '85')]['DOI'].values[0])\n",
    "            elif i in [21,22,23,24,25,26,27,28,29,30]:\n",
    "                dois.append(keys[(keys['Author Key'] == 'Carr') & (keys['IDs'] == '21')]['DOI'].values[0])\n",
    "            else:\n",
    "                dois.append(keys[keys['Author Key'] == 'Carr']['DOI'].values[1])\n",
    "    elif auth == 'Bevan':\n",
    "        ids = list(set(shp[shp['Author'] == 'Bevan']['GlacierID'].to_list()))\n",
    "        for i in ids:\n",
    "            if i == '152':\n",
    "                dois.append(keys[keys['Author Key'] == 'Bevan']['DOI'].values[0])\n",
    "            else:\n",
    "                dois.append(keys[(keys['Author Key'] == 'Bevan')]['DOI'].values[1])\n",
    "    else:\n",
    "        dois.append(keys[(keys['Author Key'] == auth)]['DOI'].values[0])\n",
    "    \n",
    "\n",
    "textfile = open(save_directory +\"\\termpicks_dois.txt\", \"w\")\n",
    "for element in dois:\n",
    "    textfile.write(element + \"\\n\")\n",
    "textfile.close()"
   ]
  }
 ],
 "metadata": {
  "kernelspec": {
   "display_name": "Python 3",
   "language": "python",
   "name": "python3"
  },
  "language_info": {
   "codemirror_mode": {
    "name": "ipython",
    "version": 3
   },
   "file_extension": ".py",
   "mimetype": "text/x-python",
   "name": "python",
   "nbconvert_exporter": "python",
   "pygments_lexer": "ipython3",
   "version": "3.9.4"
  }
 },
 "nbformat": 4,
 "nbformat_minor": 5
}
